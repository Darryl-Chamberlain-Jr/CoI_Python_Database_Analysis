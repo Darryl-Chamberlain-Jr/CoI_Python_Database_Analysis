{
 "cells": [
  {
   "cell_type": "code",
   "execution_count": 2,
   "metadata": {},
   "outputs": [],
   "source": [
    "import pandas as pd\n",
    "\n",
    "df = pd.read_excel('august_2022_data_deidentified.xlsx')"
   ]
  },
  {
   "cell_type": "code",
   "execution_count": 8,
   "metadata": {},
   "outputs": [
    {
     "data": {
      "text/plain": [
       "Unnamed: 0.1             int64\n",
       "Unnamed: 0               int64\n",
       "Speaker ID              object\n",
       "Speaker Type            object\n",
       "Class ID                object\n",
       "Term                    object\n",
       "Year                     int64\n",
       "Cohort                   int64\n",
       "Module Number            int64\n",
       "Analysis Unit           object\n",
       "Analysis Unit Index      int64\n",
       "Modify                 float64\n",
       "Emily                  float64\n",
       "Syaza                  float64\n",
       "Abigail                 object\n",
       "Patrick                 object\n",
       "Amina                   object\n",
       "Qaisara                 object\n",
       "Andrea                  object\n",
       "Emma                    object\n",
       "Elizabeth               object\n",
       "dtype: object"
      ]
     },
     "execution_count": 8,
     "metadata": {},
     "output_type": "execute_result"
    }
   ],
   "source": [
    "#df = df.drop(df[df['Analysis Unit'] == 'DELETE.'].index)\n",
    "df.dtypes"
   ]
  },
  {
   "cell_type": "code",
   "execution_count": 3,
   "metadata": {},
   "outputs": [],
   "source": [
    "#df = df.drop(df[(df['Class ID'] == 'PHY') & (df['Cohort'] == 2) & (df['Patrick'].notnull()) & (df['Emma'].notnull())].index)\n",
    "#df = df.drop(df[(df['Class ID'] == 'PHY') & (df['Cohort'] == 3) & (df['Qaisara'].notnull()) & (df['Elizabeth'].notnull())].index)\n",
    "#df = df.drop(df[(df['Class ID'] == 'PHY') & (df['Cohort'] == 4) & (df['Qaisara'].notnull()) & (df['Elizabeth'].notnull())].index)\n",
    "#df = df.drop(df[(df['Class ID'] == 'PHY') & (df['Cohort'] == 5) & (df['Qaisara'].notnull()) & (df['Andrea'].notnull())].index)\n",
    "\n",
    "good_df = df[(df['Speaker Type'] == 'Instructor') | (df['Class ID'] == 'MATH') | (df['Cohort'] == 1)]\n",
    "fixed_2_df = df[(df['Speaker Type'] == 'Student') & (df['Class ID'] == 'PHY') & (df['Cohort'] == 2) & (df['Patrick'].notnull()) & (df['Emma'].notnull())]\n",
    "fixed_3_df = df[(df['Speaker Type'] == 'Student') & (df['Class ID'] == 'PHY') & (df['Cohort'] == 3) & (df['Qaisara'].notnull()) & (df['Elizabeth'].notnull())]\n",
    "fixed_4_df = df[(df['Speaker Type'] == 'Student') & (df['Class ID'] == 'PHY') & (df['Cohort'] == 4) & (df['Qaisara'].notnull()) & (df['Elizabeth'].notnull())]\n",
    "fixed_5_df = df[(df['Speaker Type'] == 'Student') & (df['Class ID'] == 'PHY') & (df['Cohort'] == 5) & (df['Qaisara'].notnull()) & (df['Andrea'].notnull())]\n",
    "\n",
    "final_df = pd.concat([good_df, fixed_2_df, fixed_3_df, fixed_4_df, fixed_5_df])"
   ]
  },
  {
   "cell_type": "markdown",
   "metadata": {},
   "source": [
    "Above doesn't work. Need to do something like \n",
    "- partition df into good piece and bad pieces\n",
    "- for each bad piece, df.dropna(subset=['res_1', 'res_2'], how='all')\n",
    "- concat all pieces back together"
   ]
  },
  {
   "cell_type": "code",
   "execution_count": 4,
   "metadata": {},
   "outputs": [],
   "source": [
    "final_df.to_excel('august_2022_data_deidentified.xlsx')"
   ]
  },
  {
   "cell_type": "code",
   "execution_count": 7,
   "metadata": {},
   "outputs": [],
   "source": [
    "df = pd.read_excel('august_2022_data_deidentified.xlsx')"
   ]
  },
  {
   "cell_type": "code",
   "execution_count": 8,
   "metadata": {},
   "outputs": [],
   "source": [
    "math_df = df[df['Class ID'] == 'MATH']\n",
    "phy_df = df[df['Class ID'] == 'PHY']\n",
    "\n",
    "math_df.to_excel('aug_22_math_data_deidentified.xlsx')\n",
    "phy_df.to_excel('aug_22_phy_data_deidentified.xlsx')"
   ]
  },
  {
   "cell_type": "code",
   "execution_count": null,
   "metadata": {},
   "outputs": [],
   "source": []
  }
 ],
 "metadata": {
  "kernelspec": {
   "display_name": "Python 3",
   "language": "python",
   "name": "python3"
  },
  "language_info": {
   "codemirror_mode": {
    "name": "ipython",
    "version": 3
   },
   "file_extension": ".py",
   "mimetype": "text/x-python",
   "name": "python",
   "nbconvert_exporter": "python",
   "pygments_lexer": "ipython3",
   "version": "3.11.3"
  }
 },
 "nbformat": 4,
 "nbformat_minor": 2
}

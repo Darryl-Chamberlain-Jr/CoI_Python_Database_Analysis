{
 "cells": [
  {
   "cell_type": "code",
   "execution_count": 12,
   "metadata": {},
   "outputs": [],
   "source": [
    "import pandas as pd\n",
    "\n",
    "df = pd.read_excel('aug_21_data_deidentified.xlsx')"
   ]
  },
  {
   "cell_type": "code",
   "execution_count": 13,
   "metadata": {},
   "outputs": [],
   "source": [
    "def define_sentence_length(list_of_substrings):\n",
    "    if type(list_of_substrings) != type([]): # Returns 0 for nan values, which str.split() returns for empty cells\n",
    "        return 0\n",
    "    else:\n",
    "        return len(list_of_substrings)\n",
    "    \n",
    "df['Word Count'] = df['Analysis Unit'].str.split().map(define_sentence_length)"
   ]
  },
  {
   "cell_type": "code",
   "execution_count": 14,
   "metadata": {},
   "outputs": [],
   "source": [
    "# First, drop duplicate rows of word count 10+\n",
    "\n",
    "small_word_df = df[df['Word Count'] < 10].copy()\n",
    "big_word_df = df[df['Word Count'] > 9].copy()\n",
    "\n",
    "duplicate_col_names = ['Speaker ID', 'Speaker Type', 'Class ID', 'Term', 'Year', 'Cohort', 'Module Number', 'Analysis Unit']\n",
    "big_word_df.drop_duplicates(duplicate_col_names, inplace=True)\n",
    "\n",
    "non_dup_df = pd.concat([small_word_df, big_word_df])"
   ]
  },
  {
   "cell_type": "code",
   "execution_count": 15,
   "metadata": {},
   "outputs": [],
   "source": [
    "non_dup_df.to_excel('aug_21_data_modified.xlsx')"
   ]
  },
  {
   "cell_type": "markdown",
   "metadata": {},
   "source": [
    "Review small words. Remove mentions of names."
   ]
  },
  {
   "cell_type": "code",
   "execution_count": null,
   "metadata": {},
   "outputs": [],
   "source": [
    "df = pd.read_excel('august_2022_data_deidentified.xlsx')"
   ]
  },
  {
   "cell_type": "code",
   "execution_count": null,
   "metadata": {},
   "outputs": [],
   "source": [
    "# Next, ensure there are no extremely large compound sentences due to poor student use of periods (OR lack of periods at all). \n",
    "# Maybe in the future there can be a check for number of capitalized letters in sentence. \n",
    "\n",
    "sus_sentence_df = df[df['Word Count'] > 74].copy()\n",
    "non_sus_sentence_df = df[df['Word Count'] < 75].copy()\n",
    "\n",
    "sus_sentence_df.to_excel('check_sus_22.xlsx')"
   ]
  },
  {
   "cell_type": "code",
   "execution_count": null,
   "metadata": {},
   "outputs": [],
   "source": []
  },
  {
   "cell_type": "code",
   "execution_count": 11,
   "metadata": {},
   "outputs": [],
   "source": []
  },
  {
   "cell_type": "markdown",
   "metadata": {},
   "source": [
    "Use word count length to check for irregularities such as students not using punctuation (and thus there are sentences with 180+ words long.) I would glance over any sentence more than 20 words long."
   ]
  },
  {
   "cell_type": "code",
   "execution_count": 17,
   "metadata": {},
   "outputs": [
    {
     "name": "stdout",
     "output_type": "stream",
     "text": [
      "The same way motors operate, generators operate as well\n",
      "A coil spins inside of magnetic housing or withing a magnetic field, creating inverting current back and forth and creating an electrical charge\n",
      "Faster spinning, multiple wires in a rotor, and magnets in a stator come together to create a complex generator system, such as the alternator in your car\n",
      "From hybrid cars to electric toothbrushes, electric motors are utilized in a variety of applications to complete various tasks\n",
      "Most electric motors, such as power drills, require specific frequency power sources, typically 60Hz in the United States\n",
      "In the gym, you may notice how many types of cardio equipment, such as stationary cycles, are not plugged in and require the user to pedal before it powers up\n",
      "These cycles utilize a basic generator system in the center of the pedals\n",
      "As you pedal forward, you spin a copper wire inside of a magnetic housing, creating electricity to power the machine\n",
      "Most cycles will even tell you how many kilowatts you have generated during your workout\n",
      "Aircraft utilize all sorts of generator and electric motors for different purposes\n",
      "Aircraft engines spin, through an assortment of driveshafts, gearboxes, and constant speed drives, and electrical generator to power various systems\n",
      "Though my aircraft only has 3 generators, they are all wired together through bus ties to keep all systems powered in the event of a generator or engine failure\n",
      "Many of our electrical flight control actuators utilize 3 phase electrical motors\n",
      "By breaking the sine wave of an AC power source into 3 sections, an attaching each section to a point on a circular electrical motor at evenly spaced 120 points, you can spin a magnetic internal mass, the output shaft, by energizing each point in a circular motion\n",
      "I attached a video that I found very helpful in understanding 3-phase power\n",
      "Understanding 3 phase power and motors has helped me solve some very interesting gremlins on the aircraft, such as a cross-wired electromechanical actuator we received out of supply, which was placing two of the 3 phases in the wrong points, causing erratic movement\n",
      "[url]_x000D_KPWKXL [url]_x000D_KPWKXL Hello [name],_x000D_KPWKXL I wasn't familiar with the concept of ram air turbine power generators\n",
      "On our aircraft, we have 3 engine driven generators for normal power generation in flight and an emergency generator driven by another engine that is in standby mode, in case the others go out\n",
      "Ram air turbines seem like a simple but genius design to save aircraft in flight under extreme power loss scenarios\n",
      "I'm curious how many military aircraft make use of these\n",
      "Thank you for the knowledge!\n"
     ]
    }
   ],
   "source": [
    "import re\n",
    "\n",
    "sentence = \"The same way motors operate, generators operate as well _x000D_KPWKXL A coil spins inside of magnetic housing or withing a magnetic field, creating inverting current back and forth and creating an electrical charge _x000D_KPWKXL Faster spinning, multiple wires in a rotor, and magnets in a stator come together to create a complex generator system, such as the alternator in your car _x000D_KPWKXL From hybrid cars to electric toothbrushes, electric motors are utilized in a variety of applications to complete various tasks _x000D_KPWKXL Most electric motors, such as power drills, require specific frequency power sources, typically 60Hz in the United States _x000D_KPWKXL In the gym, you may notice how many types of cardio equipment, such as stationary cycles, are not plugged in and require the user to pedal before it powers up _x000D_KPWKXL These cycles utilize a basic generator system in the center of the pedals _x000D_KPWKXL As you pedal forward, you spin a copper wire inside of a magnetic housing, creating electricity to power the machine _x000D_KPWKXL Most cycles will even tell you how many kilowatts you have generated during your workout _x000D_KPWKXL Aircraft utilize all sorts of generator and electric motors for different purposes _x000D_KPWKXL Aircraft engines spin, through an assortment of driveshafts, gearboxes, and constant speed drives, and electrical generator to power various systems _x000D_KPWKXL Though my aircraft only has 3 generators, they are all wired together through bus ties to keep all systems powered in the event of a generator or engine failure _x000D_KPWKXL Many of our electrical flight control actuators utilize 3 phase electrical motors _x000D_KPWKXL By breaking the sine wave of an AC power source into 3 sections, an attaching each section to a point on a circular electrical motor at evenly spaced 120 points, you can spin a magnetic internal mass, the output shaft, by energizing each point in a circular motion _x000D_KPWKXL I attached a video that I found very helpful in understanding 3-phase power _x000D_KPWKXL Understanding 3 phase power and motors has helped me solve some very interesting gremlins on the aircraft, such as a cross-wired electromechanical actuator we received out of supply, which was placing two of the 3 phases in the wrong points, causing erratic movement _x000D_KPWKXL [url]_x000D_KPWKXL [url]_x000D_KPWKXL Hello [name],_x000D_KPWKXL I wasn't familiar with the concept of ram air turbine power generators _x000D_KPWKXL On our aircraft, we have 3 engine driven generators for normal power generation in flight and an emergency generator driven by another engine that is in standby mode, in case the others go out _x000D_KPWKXL Ram air turbines seem like a simple but genius design to save aircraft in flight under extreme power loss scenarios _x000D_KPWKXL I'm curious how many military aircraft make use of these _x000D_KPWKXL Thank you for the knowledge!\"\n",
    "fixed = re.sub(' _x000D_KPWKXL', '.', sentence)\n",
    "for sen in fixed.split('. '):\n",
    "    print(sen)\n"
   ]
  },
  {
   "cell_type": "code",
   "execution_count": null,
   "metadata": {},
   "outputs": [],
   "source": []
  }
 ],
 "metadata": {
  "kernelspec": {
   "display_name": "Python 3",
   "language": "python",
   "name": "python3"
  },
  "language_info": {
   "codemirror_mode": {
    "name": "ipython",
    "version": 3
   },
   "file_extension": ".py",
   "mimetype": "text/x-python",
   "name": "python",
   "nbconvert_exporter": "python",
   "pygments_lexer": "ipython3",
   "version": "3.11.3"
  }
 },
 "nbformat": 4,
 "nbformat_minor": 2
}
